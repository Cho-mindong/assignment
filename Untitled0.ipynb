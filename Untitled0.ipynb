{
  "nbformat": 4,
  "nbformat_minor": 0,
  "metadata": {
    "colab": {
      "name": "Untitled0.ipynb",
      "provenance": [],
      "authorship_tag": "ABX9TyP6rCViVEZ0CZtWOiNIpMv5",
      "include_colab_link": true
    },
    "kernelspec": {
      "name": "python3",
      "display_name": "Python 3"
    }
  },
  "cells": [
    {
      "cell_type": "markdown",
      "metadata": {
        "id": "view-in-github",
        "colab_type": "text"
      },
      "source": [
        "<a href=\"https://colab.research.google.com/github/Cho-mindong/assignment-week1/blob/master/Untitled0.ipynb\" target=\"_parent\"><img src=\"https://colab.research.google.com/assets/colab-badge.svg\" alt=\"Open In Colab\"/></a>"
      ]
    },
    {
      "cell_type": "markdown",
      "metadata": {
        "id": "xHFtDlr4Q_ND",
        "colab_type": "text"
      },
      "source": [
        "#제목\n",
        "##제목\n",
        "###제목\n",
        "---------------------------------------------\n",
        "**글씨**\n",
        "\n",
        "__글씨__\n",
        "\n",
        "~~글씨~~\n",
        "\n",
        "*글씨*\n",
        "\n",
        "_글씨_\n",
        "---------------------------------------------\n",
        "* 리스트\n",
        " * 리스트1\n",
        "\n",
        "+ 리스트2\n",
        " - 리스트2-1\n",
        "- 리스트3\n",
        "---------------------------------------------\n",
        "1. 첫째리스트\n",
        " 2. 둘째리스트\n",
        "    3. 셋째리스트\n",
        "---\n",
        "<링크>\n",
        "\n",
        "[블로그](https://sansorun.tistory.com/)\n",
        "\n",
        "---\n",
        "![버즈이미지](toystory_web_ver_1.jpg)\n"
      ]
    },
    {
      "cell_type": "code",
      "metadata": {
        "id": "8s0lv7u9WHQh",
        "colab_type": "code",
        "colab": {}
      },
      "source": [
        "# 환영인사 함수\n",
        "def hello(name):\n",
        "  return f'환영합니다. {name}님!'"
      ],
      "execution_count": 0,
      "outputs": []
    },
    {
      "cell_type": "code",
      "metadata": {
        "id": "9Y2XOcQyXFAE",
        "colab_type": "code",
        "colab": {
          "base_uri": "https://localhost:8080/",
          "height": 52
        },
        "outputId": "57bacd22-5173-4d02-a709-e6d2f375a3df"
      },
      "source": [
        "name = input('이름을 입력해주세요')\n",
        "hello(name)"
      ],
      "execution_count": 6,
      "outputs": [
        {
          "output_type": "stream",
          "text": [
            "이름을 입력해주세요조민동\n"
          ],
          "name": "stdout"
        },
        {
          "output_type": "execute_result",
          "data": {
            "text/plain": [
              "'환영합니다. 조민동님!'"
            ]
          },
          "metadata": {
            "tags": []
          },
          "execution_count": 6
        }
      ]
    },
    {
      "cell_type": "code",
      "metadata": {
        "id": "duzyy-6lXUt_",
        "colab_type": "code",
        "colab": {}
      },
      "source": [
        ""
      ],
      "execution_count": 0,
      "outputs": []
    }
  ]
}