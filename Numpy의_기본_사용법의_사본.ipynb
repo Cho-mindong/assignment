{
  "nbformat": 4,
  "nbformat_minor": 0,
  "metadata": {
    "colab": {
      "name": "Numpy의 기본 사용법의 사본",
      "provenance": [],
      "collapsed_sections": [],
      "include_colab_link": true
    },
    "kernelspec": {
      "name": "python3",
      "display_name": "Python 3"
    }
  },
  "cells": [
    {
      "cell_type": "markdown",
      "metadata": {
        "id": "view-in-github",
        "colab_type": "text"
      },
      "source": [
        "<a href=\"https://colab.research.google.com/github/Cho-mindong/study_ai_pre-cousre/blob/master/Numpy%EC%9D%98_%EA%B8%B0%EB%B3%B8_%EC%82%AC%EC%9A%A9%EB%B2%95%EC%9D%98_%EC%82%AC%EB%B3%B8.ipynb\" target=\"_parent\"><img src=\"https://colab.research.google.com/assets/colab-badge.svg\" alt=\"Open In Colab\"/></a>"
      ]
    },
    {
      "cell_type": "markdown",
      "metadata": {
        "id": "XK5zqqXSD5Vd",
        "colab_type": "text"
      },
      "source": [
        "## Numpy의 기본 사용법\n",
        "[강의 노트](https://github.com/ndb796/Python-Data-Analysis-and-Image-Processing-Tutorial/blob/master/04.%20Numpy%EC%9D%98%20%EC%97%B0%EC%82%B0%EA%B3%BC%20%ED%95%A8%EC%88%98/Python%20%EB%8D%B0%EC%9D%B4%ED%84%B0%20%EB%B6%84%EC%84%9D%EA%B3%BC%20%EC%9D%B4%EB%AF%B8%EC%A7%80%20%EC%B2%98%EB%A6%AC%20-%20Numpy%EC%9D%98%20%EC%97%B0%EC%82%B0%EA%B3%BC%20%ED%95%A8%EC%88%98.pdf)"
      ]
    },
    {
      "cell_type": "markdown",
      "metadata": {
        "id": "hqGi-UyhFFBM",
        "colab_type": "text"
      },
      "source": [
        "Python의 Numpy 라이브러리는 List와 **상호 변환이 가능**합니다."
      ]
    },
    {
      "cell_type": "code",
      "metadata": {
        "id": "G5AmgwzoENVh",
        "colab_type": "code",
        "outputId": "38adc50c-0abe-4b7d-a3c7-c8de4a43ec98",
        "colab": {
          "base_uri": "https://localhost:8080/",
          "height": 70
        }
      },
      "source": [
        "import numpy as np   #numpy를 np로 \n",
        "\n",
        "array=np.array([1,2,3])  #리스트를 numpy로\n",
        "print(array.size)        #array의 사이즈 len과 비슷\n",
        "print(array.dtype)       #array 원소의 타입\n",
        "print(array[2])         #array도 list처럼 인덱스사용 가능"
      ],
      "execution_count": 0,
      "outputs": [
        {
          "output_type": "stream",
          "text": [
            "3\n",
            "int64\n",
            "3\n"
          ],
          "name": "stdout"
        }
      ]
    },
    {
      "cell_type": "markdown",
      "metadata": {
        "id": "bzE_pyEHEUXU",
        "colab_type": "text"
      },
      "source": [
        "Python의 Numpy 라이브러리는 **다양한 형태의 배열**을 초기화 할 수 있습니다."
      ]
    },
    {
      "cell_type": "code",
      "metadata": {
        "id": "MO-eC8rzEPKK",
        "colab_type": "code",
        "outputId": "7b41f660-b2bf-4025-c0af-531e987e137c",
        "colab": {
          "base_uri": "https://localhost:8080/",
          "height": 263
        }
      },
      "source": [
        "import numpy as np\n",
        "\n",
        "# 0부터 3까지의 배열 만들기\n",
        "array1=np.arange(4)   #range처럼 arange를 통해 사용\n",
        "print(array1)\n",
        "\n",
        "# 0으로 초기화\n",
        "array2=np.zeros((4,4),dtype=float) # (4행,4열)로 배열의 원소를 0으로 통일 ,배열의 원소를 실수로 변환\n",
        "print(array2)\n",
        "\n",
        "# 1로 초기화\n",
        "array3=np.ones((3,3),dtype=str)#(3행,3열)로 배열의 원소를 1로 통일,배열의 원소를 문자열로 변환\n",
        "print(array3)\n",
        "\n",
        "# 0부터 9까지 랜덤하게 초기화 된 배열 만들기\n",
        "array4=np.random.randint(0,10,(3,3))   #random매서드를 이용해 0~10까지의 숫자중 골라 3행 3열로 만들기\n",
        "print(array4)\n",
        "\n",
        "# 평균이 0이고 표준편차가 1인 표준 정규를 띄는 배열\n",
        "array5=np.random.normal(0,1,(3,3))\n",
        "print(array5)"
      ],
      "execution_count": 0,
      "outputs": [
        {
          "output_type": "stream",
          "text": [
            "[0 1 2 3]\n",
            "[[0. 0. 0. 0.]\n",
            " [0. 0. 0. 0.]\n",
            " [0. 0. 0. 0.]\n",
            " [0. 0. 0. 0.]]\n",
            "[['1' '1' '1']\n",
            " ['1' '1' '1']\n",
            " ['1' '1' '1']]\n",
            "[[9 9 3]\n",
            " [0 6 8]\n",
            " [2 5 8]]\n",
            "[[ 1.20594912  2.01669888 -1.8510393 ]\n",
            " [-0.46414424 -0.8064136  -1.12917878]\n",
            " [ 0.86492113 -0.98108579 -0.95893811]]\n"
          ],
          "name": "stdout"
        }
      ]
    },
    {
      "cell_type": "markdown",
      "metadata": {
        "id": "BjNuQEp7FWJ1",
        "colab_type": "text"
      },
      "source": [
        "Numpy는 다양한 형태로 **합치기가 가능** 있습니다."
      ]
    },
    {
      "cell_type": "code",
      "metadata": {
        "id": "Yracqt2SEcDw",
        "colab_type": "code",
        "outputId": "5f918fdd-6fcc-4dd4-a0ee-ca6ed0cabe10",
        "colab": {
          "base_uri": "https://localhost:8080/",
          "height": 52
        }
      },
      "source": [
        "import numpy as np\n",
        "\n",
        "array1=np.array([1,2,3])\n",
        "array2=np.array([4,5,6])\n",
        "array3=np.concatenate([array1,array2]) #concatenate매서드를 이용해 가로로 합치기\n",
        "print(array3.shape) # shape매서드는 행렬의 형태를 나타내줌 (행,열)\n",
        "print(array3)"
      ],
      "execution_count": 0,
      "outputs": [
        {
          "output_type": "stream",
          "text": [
            "(6,)\n",
            "[1 2 3 4 5 6]\n"
          ],
          "name": "stdout"
        }
      ]
    },
    {
      "cell_type": "markdown",
      "metadata": {
        "id": "4pN-EeEDGHb1",
        "colab_type": "text"
      },
      "source": [
        "Numpy를 위 아래로 합칠 수 있습니다."
      ]
    },
    {
      "cell_type": "code",
      "metadata": {
        "id": "u5z29qIHGHiw",
        "colab_type": "code",
        "outputId": "b4f6b3cb-d8ca-4479-fd62-ed32b520650c",
        "colab": {
          "base_uri": "https://localhost:8080/",
          "height": 158
        }
      },
      "source": [
        "import numpy as np\n",
        "#axis=0 기준\n",
        "array1=np.arange(4).reshape(1,4) #reshape로 행렬의 모양 만들기\n",
        "array2=np.arange(8).reshape(2,4)  #reshape로 행렬의 모양 만들기\n",
        "array3=np.concatenate([array1,array2], axis=0) #concatenate 매서드로 합치기, axis=0을 넣어 위 아래로 합치기\n",
        "#axis는 함수의 축을 나타내는 것. axis=0 is x축(정육면체가 있을때 밑면의 가로)/ axis=1 is y축(정육면체가 있을때 높이) / axis=2 is z축(정육면체에서 밑면의 세로)\n",
        "#axis=0 이면 x축을 기준으로 합친다. 이때 행렬의형태에 따라 기준을 정하는데 한계가 있다\n",
        "print(array3.shape)\n",
        "print(array3)\n",
        "print()\n",
        "#axis=1 기준\n",
        "array4=np.arange(4).reshape(2,2)\n",
        "array5=np.arange(8).reshape(2,4)\n",
        "array6=np.concatenate([array4,array5], axis=1)\n",
        "#axis=1 y축을 기준으로 합침\n",
        "print(array6.shape)\n",
        "print(array6)"
      ],
      "execution_count": 0,
      "outputs": [
        {
          "output_type": "stream",
          "text": [
            "(3, 4)\n",
            "[[0 1 2 3]\n",
            " [0 1 2 3]\n",
            " [4 5 6 7]]\n",
            "\n",
            "(2, 6)\n",
            "[[0 1 0 1 2 3]\n",
            " [2 3 4 5 6 7]]\n"
          ],
          "name": "stdout"
        }
      ]
    },
    {
      "cell_type": "markdown",
      "metadata": {
        "id": "0kFRNyINFzRd",
        "colab_type": "text"
      },
      "source": [
        "Numpy의 **형태를 변경**할 수 있습니다."
      ]
    },
    {
      "cell_type": "code",
      "metadata": {
        "id": "I-RVSif4Feht",
        "colab_type": "code",
        "outputId": "dcdc82cd-1a5a-4525-bcb0-ba5486ba5f63",
        "colab": {
          "base_uri": "https://localhost:8080/",
          "height": 52
        }
      },
      "source": [
        "import numpy as np\n",
        "\n",
        "array1=np.array([1,2,3,4]) #array1의 행렬 형태는 (1,4) 따로 reshape매서드를 이용하지 않으면 shape매서드를 활용해 출력하면 (4,)로 출력된다\n",
        "array2=array1.reshape((2,2)) #reshape method를 이용해 (2,2)형태로 바꿈\n",
        "print(array1.shape)\n",
        "print(array2.shape)"
      ],
      "execution_count": 0,
      "outputs": [
        {
          "output_type": "stream",
          "text": [
            "(4,)\n",
            "(2, 2)\n"
          ],
          "name": "stdout"
        }
      ]
    },
    {
      "cell_type": "markdown",
      "metadata": {
        "id": "ZIy_DX6bGDpd",
        "colab_type": "text"
      },
      "source": [
        "Numpy의 **형태를 나누기** 할 수 있습니다."
      ]
    },
    {
      "cell_type": "code",
      "metadata": {
        "id": "yQGYnY2pF875",
        "colab_type": "code",
        "outputId": "3c65795f-140b-4baa-a1be-33f7ec839540",
        "colab": {
          "base_uri": "https://localhost:8080/",
          "height": 105
        }
      },
      "source": [
        "import numpy as np\n",
        "\n",
        "array = np.arange(8).reshape(2, 4)\n",
        "print(array)\n",
        "left, right = np.split(array, [2], axis=1) #np.split(배열, 기준이될 인덱스, 기준이 될 축)\n",
        "#axis=1 즉,y축으로 나누기\n",
        "\n",
        "print(left.shape)\n",
        "print(right.shape)\n",
        "print(right[1][1])"
      ],
      "execution_count": 0,
      "outputs": [
        {
          "output_type": "stream",
          "text": [
            "[[0 1 2 3]\n",
            " [4 5 6 7]]\n",
            "(2, 2)\n",
            "(2, 2)\n",
            "7\n"
          ],
          "name": "stdout"
        }
      ]
    }
  ]
}