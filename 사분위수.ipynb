{
  "nbformat": 4,
  "nbformat_minor": 0,
  "metadata": {
    "colab": {
      "name": "사분위수.ipynb",
      "provenance": [],
      "collapsed_sections": [],
      "authorship_tag": "ABX9TyN6crnvx4XSlqJlPhqm5iRw",
      "include_colab_link": true
    },
    "kernelspec": {
      "name": "python3",
      "display_name": "Python 3"
    }
  },
  "cells": [
    {
      "cell_type": "markdown",
      "metadata": {
        "id": "view-in-github",
        "colab_type": "text"
      },
      "source": [
        "<a href=\"https://colab.research.google.com/github/Cho-mindong/study_ai_pre-cousre/blob/master/%EC%82%AC%EB%B6%84%EC%9C%84%EC%88%98.ipynb\" target=\"_parent\"><img src=\"https://colab.research.google.com/assets/colab-badge.svg\" alt=\"Open In Colab\"/></a>"
      ]
    },
    {
      "cell_type": "markdown",
      "metadata": {
        "id": "q1tFjiQu8_cV",
        "colab_type": "text"
      },
      "source": [
        "사분위수 # 치킨집 A사와 B사의 배달시간 데이터(\"분\"단위)"
      ]
    },
    {
      "cell_type": "code",
      "metadata": {
        "id": "bPyluNfs8-mP",
        "colab_type": "code",
        "colab": {}
      },
      "source": [
        "import pandas as pd"
      ],
      "execution_count": 0,
      "outputs": []
    },
    {
      "cell_type": "code",
      "metadata": {
        "id": "hnt-e6iH82yU",
        "colab_type": "code",
        "colab": {}
      },
      "source": [
        "store_a=pd.Series([20,21,23,22,26,28,35,35,41,42,43,45,44,45,46,47,47,46,47,58,58,59,60,56,57,57,80])\n",
        "store_b=pd.Series([5,6,11,13,15,16,20,20,21,23,22,27,27,30,30,32,36,37,37,40,40,43,44,51,54,70,600])\n"
      ],
      "execution_count": 0,
      "outputs": []
    },
    {
      "cell_type": "code",
      "metadata": {
        "id": "Nukprs_h99kw",
        "colab_type": "code",
        "outputId": "c8e3b870-841f-49e1-bae7-a71661fbc861",
        "colab": {
          "base_uri": "https://localhost:8080/",
          "height": 175
        }
      },
      "source": [
        "A_Q1=store_a.quantile(0.25)                  #quantile 매소드는 0~1 사이의 숫자로 해야함\n",
        "print(\"1사분위수:\", A_Q1)\n",
        "A_Q2=store_a.quantile(0.50) \n",
        "print(\"2사분위수(중앙값):\", A_Q2)\n",
        "A_Q3=store_a.quantile(0.75) \n",
        "print(\"3사분위수:\", A_Q3)\n",
        "A_Q4=store_a.quantile(1) \n",
        "print(\"4사분위수:\", A_Q4, \"\\n\")\n",
        "\n",
        "B_Q1=store_b.quantile(0.25) \n",
        "print(\"1사분위수:\", B_Q1)\n",
        "B_Q2=store_b.quantile(0.50) \n",
        "print(\"2사분위수(중앙값):\", B_Q2)\n",
        "B_Q3=store_b.quantile(0.75) \n",
        "print(\"3사분위수:\", B_Q3)\n",
        "B_Q4=store_b.quantile(1) \n",
        "print(\"4사분위수:\", B_Q4)\n",
        "\n",
        "\n",
        "\n",
        "\n"
      ],
      "execution_count": 0,
      "outputs": [
        {
          "output_type": "stream",
          "text": [
            "1사분위수: 35.0\n",
            "2사분위수(중앙값): 45.0\n",
            "3사분위수: 56.5\n",
            "4사분위수: 80.0 \n",
            "\n",
            "1사분위수: 20.0\n",
            "2사분위수: 30.0\n",
            "3사분위수: 40.0\n",
            "4사분위수: 600.0\n"
          ],
          "name": "stdout"
        }
      ]
    },
    {
      "cell_type": "code",
      "metadata": {
        "id": "E3nORc62BX1v",
        "colab_type": "code",
        "colab": {}
      },
      "source": [
        "import matplotlib.pyplot as plt\n"
      ],
      "execution_count": 0,
      "outputs": []
    },
    {
      "cell_type": "code",
      "metadata": {
        "id": "5Egf6YcrBduY",
        "colab_type": "code",
        "outputId": "769a32b1-40b4-45e6-9f8f-57460fc555c0",
        "colab": {
          "base_uri": "https://localhost:8080/",
          "height": 265
        }
      },
      "source": [
        "plt.boxplot((store_a))\n",
        "plt.grid()\n",
        "plt.show()"
      ],
      "execution_count": 0,
      "outputs": [
        {
          "output_type": "display_data",
          "data": {
            "image/png": "[encoded data removed]",
            "text/plain": [
              "<Figure size 432x288 with 1 Axes>"
            ]
          },
          "metadata": {
            "tags": [],
            "needs_background": "light"
          }
        }
      ]
    },
    {
      "cell_type": "markdown",
      "metadata": {
        "id": "39gJqGIKCgX0",
        "colab_type": "text"
      },
      "source": [
        "위 그림에서 붉은 선은 Q2(중앙값)\n",
        "\n",
        "가운데에 있는 상자의 윗 선은 Q3 아랫선은 Q1\n",
        "\n",
        "\n",
        "80부분에 굵은 선은 이상치를 제외한 최댓값.\n",
        "20부분에 굵은 선은 이상치를 제외한 최솟값.\n",
        "\n",
        "이 최댓값,최솟값을 벗어난 데이터는 이상치로 간주할 수 있어 자세하게 살펴봐야함\n",
        "\n",
        "\n"
      ]
    },
    {
      "cell_type": "code",
      "metadata": {
        "id": "1_-kV8pODuWx",
        "colab_type": "code",
        "outputId": "808be3b2-8e60-48d7-cf9f-cde1f34c1689",
        "colab": {
          "base_uri": "https://localhost:8080/",
          "height": 265
        }
      },
      "source": [
        "plt.boxplot((store_b))\n",
        "plt.grid()\n",
        "plt.show()"
      ],
      "execution_count": 0,
      "outputs": [
        {
          "output_type": "display_data",
          "data": {
            "image/png": "[encoded data removed]",
            "text/plain": [
              "<Figure size 432x288 with 1 Axes>"
            ]
          },
          "metadata": {
            "tags": [],
            "needs_background": "light"
          }
        }
      ]
    },
    {
      "cell_type": "markdown",
      "metadata": {
        "id": "Bt1agtsHD93K",
        "colab_type": "text"
      },
      "source": [
        "위 그림은 아래 쪽으로 치우쳐져 있다.\n",
        "그 이유는 600이라는 데이터가 다른 데이터에 비해 압도적으로 크기때문이다. \n",
        "\n",
        "보는것과 같이 위쪽 굵은선에 벗어나 있으므로 600은 이상치라는 것을 알 수 있다.\n",
        "\n",
        "600 데이터를 삭제해 보자."
      ]
    },
    {
      "cell_type": "code",
      "metadata": {
        "id": "kS1jf-AtEiEf",
        "colab_type": "code",
        "outputId": "72975e66-1165-4b42-aa49-279ccc34a221",
        "colab": {
          "base_uri": "https://localhost:8080/",
          "height": 265
        }
      },
      "source": [
        "store_b=pd.Series([5,6,11,13,15,16,20,20,21,23,22,27,27,30,30,32,36,37,37,40,40,43,44,51,54,70])\n",
        "plt.boxplot((store_a,store_b))\n",
        "plt.grid()\n",
        "plt.show()"
      ],
      "execution_count": 0,
      "outputs": [
        {
          "output_type": "display_data",
          "data": {
            "image/png": "[encoded data removed]",
            "text/plain": [
              "<Figure size 432x288 with 1 Axes>"
            ]
          },
          "metadata": {
            "tags": [],
            "needs_background": "light"
          }
        }
      ]
    },
    {
      "cell_type": "markdown",
      "metadata": {
        "id": "DWSF6P9JE68d",
        "colab_type": "text"
      },
      "source": [
        "1번은 A이고 2번은 B이다.\n",
        "\n",
        "600을 지우니\n",
        "\n",
        "B는 A처럼 깔끔하게 그려지는 것을 알 수 있다.\n",
        "\n",
        "딱봐도 A가게의 배달시간이 B가게의 배달시간보다 길다는 것을 알 수 있다."
      ]
    },
    {
      "cell_type": "markdown",
      "metadata": {
        "id": "mQUecbWyFVP4",
        "colab_type": "text"
      },
      "source": [
        "그럼 이때 이상치의 기준이 되는 최댓값과 최솟값은 어디서 구할까?\n",
        "\n",
        "IQR:사분범위(중앙에서 50%의 범위를 뽑아서 본다)\n",
        "\n",
        "IQR=Q3-Q1\n",
        "\n",
        "IQR의 1.5배 범위가 기준이 된다."
      ]
    },
    {
      "cell_type": "markdown",
      "metadata": {
        "id": "EUky4HotGZFo",
        "colab_type": "text"
      },
      "source": [
        "기준 구하는 방법\n",
        "\n",
        "1. 사분범위를 구한다. IQR=Q3-Q1\n",
        "2. 사분범위에 1.5를 곱해준다.\n",
        "3. 하단 이상치 기준선은 1사분위수에서 사분범위의 1.5배 값을 빼준 것. Q1-IQR*1.5\n",
        "4. 상단 이상치 기준선은 3사분위수에서 사분범위의 1.5배 값을 더한 것. Q3+IQR*1.5 "
      ]
    }
  ]
}