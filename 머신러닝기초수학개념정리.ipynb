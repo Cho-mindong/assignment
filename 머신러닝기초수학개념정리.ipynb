{
  "nbformat": 4,
  "nbformat_minor": 0,
  "metadata": {
    "colab": {
      "name": "머신러닝기초수학개념정리.ipynb",
      "provenance": [],
      "collapsed_sections": [],
      "authorship_tag": "ABX9TyOL/7nNH54bR+QGp0T7y7MF",
      "include_colab_link": true
    },
    "kernelspec": {
      "name": "python3",
      "display_name": "Python 3"
    }
  },
  "cells": [
    {
      "cell_type": "markdown",
      "metadata": {
        "id": "view-in-github",
        "colab_type": "text"
      },
      "source": [
        "<a href=\"https://colab.research.google.com/github/Cho-mindong/study_ai_pre-cousre/blob/master/%EB%A8%B8%EC%8B%A0%EB%9F%AC%EB%8B%9D%EA%B8%B0%EC%B4%88%EC%88%98%ED%95%99%EA%B0%9C%EB%85%90%EC%A0%95%EB%A6%AC.ipynb\" target=\"_parent\"><img src=\"https://colab.research.google.com/assets/colab-badge.svg\" alt=\"Open In Colab\"/></a>"
      ]
    },
    {
      "cell_type": "markdown",
      "metadata": {
        "id": "B2OhDRcwjRS3",
        "colab_type": "text"
      },
      "source": [
        "#머신러닝을 위한 기초수학\n",
        "1. 선형대수\n",
        "    1. 선형\n",
        "    2. 선형대수\n",
        "2. 통계\n",
        "    1. 평균,최빈값,중앙값\n",
        "    2. 통계학\n",
        "    3. 통계 모델링\n",
        "    4. 변량의 측정\n",
        "        1. 분산\n",
        "        2. 표준편차\n",
        "    5. 사분위수\n",
        "3. 미분\n",
        "    1. 목적함수, 미분, 경사 하강법\n",
        "    2. 편미분\n",
        "    3. 합성함수\n",
        "    4. 경사하강법으로 모델 구하기( 모델 파라미터 구하기)\n"
      ]
    },
    {
      "cell_type": "markdown",
      "metadata": {
        "id": "5jwLKeLbkA74",
        "colab_type": "text"
      },
      "source": [
        "###1. 선형대수"
      ]
    },
    {
      "cell_type": "markdown",
      "metadata": {
        "id": "A7pgL1T4kD3l",
        "colab_type": "text"
      },
      "source": [
        "#####1. 선형\n",
        "\n",
        "다음 식을 보자\n",
        "\n",
        "a1x1+a2x2+.....+anxn \n",
        "\n",
        "여기서 변수랑 상수는 무엇일까? 정답은 경우에 따라 다르다. 머신러닝학문에서는 상황에 따라 변수와 상수를 설정하기 때문이다. 일반적으로는 a를 상수 x를 변수라고 한다. 이럴 경우 위의 식은 x에 대한 식이라고 한다.\n",
        "\n",
        "_그래서 선형이 뭔데?_\n",
        "\n",
        "선형은 위의 식처럼 상수x변수의 합 형태로 표현되는 것을 말한다. 이런 특징을 선형성"
      ]
    },
    {
      "cell_type": "markdown",
      "metadata": {
        "id": "bwFyE3PYloTs",
        "colab_type": "text"
      },
      "source": [
        "예시) a1x1^2-a2x2x3+...+anxn \n",
        "\n",
        "1. a를 변수 나머지를 상수라고 하면, 상수x변수의 합 형태이니 선형(-값은 x2x3에 합치면 됨)\n",
        "\n",
        "2. a를 상수 x를 변수라고 하면, 상수x변수x변수 형태이니 선형이 아니다."
      ]
    },
    {
      "cell_type": "markdown",
      "metadata": {
        "id": "0QEenLr7mi5p",
        "colab_type": "text"
      },
      "source": [
        "#####2.선형대수\n",
        "대수: 말그대로 대신하는 수 \n",
        "   (y, x 등)\n",
        "\n",
        "선형대수에는 백터,행렬등으로 표현한다.\n",
        "\n",
        "추가적인 내용은 아래 링크로..\n",
        "\n",
        "[선형대수_위키백과](https://ko.wikipedia.org/wiki/%EC%84%A0%ED%98%95%EB%8C%80%EC%88%98%ED%95%99)\n",
        "[선형대수_유튜브](https://www.youtube.com/watch?v=6ICTOnT0iUE)\n",
        "\n",
        "\n",
        "\n",
        "\n",
        "\n"
      ]
    },
    {
      "cell_type": "markdown",
      "metadata": {
        "id": "foROaZ-rosLH",
        "colab_type": "text"
      },
      "source": [
        "###2. 통계\n",
        "\n"
      ]
    },
    {
      "cell_type": "markdown",
      "metadata": {
        "id": "IUJ-Y6E7pFLQ",
        "colab_type": "text"
      },
      "source": [
        "#####1. 평균,최빈값,중앙값\n",
        "\n",
        "1. 평균: 모든 데이터 값의 평균값. 이로인해 이상값(값의 크기가 툭튀어나옴)이 있으면 다수의 데이터값은 낮지만 평균값이 높게 나올수 있어 정확성에 영향을 미친다.\n",
        "\n",
        "2. 중앙값: 모든 데이터를 정렬했을 때 중앙에 있는 데이터의 값.\n",
        "\n",
        "3. 최빈값: 모든 데이터중 동일한 값이 가장 많이 있는 데이터의 값.\n",
        "\n",
        "4. 따라서 평균값과 중앙값, 최빈값을 모두 고려해 줘야 정확하다.\n",
        "\n",
        "[참고_유튜브](https://www.youtube.com/watch?v=2lJA1FaXAiU)"
      ]
    },
    {
      "cell_type": "markdown",
      "metadata": {
        "id": "aVk6VuXQqZf3",
        "colab_type": "text"
      },
      "source": [
        "#####2. 통계학\n",
        "1. 기술통계\n",
        "      1. 기술통계란? 측정이나 실험에서 수집한 데이터에서 특성을 규명하는 방법.\n",
        "      2. 연속형데이터: 키,나이,가격등  연속적인 데이터. 고등수학, 생물유전파트에서도 배운 정규분포같은 형태. 평균,표본표차로 나타냄\n",
        "      3. 범주형데이터: 이산분포같은 것. 게임캐릭터의 성별, 이름, 종족같이 각각 띄엄띄엄있는 것. 빈도나  백분율로 나타냄.\n",
        "\n",
        "2. 추론통계\n",
        "      1. 추론통계란? 기술통계를 이용해 어떤 모집단에서 구한 표본정보를 가지고 그 모집단의 특성 및 가능성 등을 추론해내는 통계적 방법.\n",
        "      2. 가설검정\n",
        "      3. 수치로 되어 있는 특징들을 계산\n",
        "      4. 각 데이터 간의 상관관계를 분석\n",
        "\n",
        "\n",
        "[참고_위키](https://ko.wikipedia.org/wiki/%ED%86%B5%EA%B3%84%ED%95%99)"
      ]
    },
    {
      "cell_type": "markdown",
      "metadata": {
        "id": "CMfyum_XtnHS",
        "colab_type": "text"
      },
      "source": [
        "#####3. 통계 모델링\n",
        "\n",
        "통계 모델링이란? 데이터에 통계학을 적용하여 변수의 유의성을 분석함, 방대한 양의 데이터에 숨겨진 특징을 찾아내는 것. \n",
        "\n",
        "통계모델은 여러 가정이 있는데 이런 가정들은 확률분포를 가진다. 모든 데이터가 이런 가정에 만족해야 하는 기본가정으로 시작. 이조건이 만족할때만 모델의 성능이 통계학적으로 의미를 갖게 된다.- _말이 어렵다 잘 생각해보장_\n",
        "\n",
        "\n"
      ]
    },
    {
      "cell_type": "markdown",
      "metadata": {
        "id": "0F2Qha-1waC0",
        "colab_type": "text"
      },
      "source": [
        "- 확률 분포\n",
        "    - 정규분포        \n",
        "    \n",
        "    [정규분포그림](https://cloud.naver.com/#/my/viewer/3472428061262618932:1765086?resourceKey=am1kNjJ8MTExNzcwNzM3fER8MA)\n",
        "    - 다른확률분포\n",
        "    \n",
        "    [다른확률분포그림](https://cloud.naver.com/#/my/viewer/3472428061262605621:1765086?resourceKey=am1kNjJ8MTExNzcwNzM3fER8MA)\n",
        "    - 확률분포에서의 중앙값\n",
        "    \n",
        "    [중앙값그림](https://cloud.naver.com/#/my/viewer/3472428061263736629:1765086?resourceKey=am1kNjJ8MTExNzcwNzM3fER8MA)"
      ]
    },
    {
      "cell_type": "markdown",
      "metadata": {
        "id": "G_2sGnh2zo-E",
        "colab_type": "text"
      },
      "source": [
        "#####4. 변량의 측정\n",
        "1. 변량= 수치,변수(앞서말했던 x,y같은 것)\n",
        "\n",
        "\n",
        "2. 산포=데이터의 변량을 의미하고 데이터가 얼마나 중심으로 모이지 않고 흩어져 있는지를 설명.\n",
        "\n",
        " [산포도](https://ko.wikipedia.org/wiki/%EC%82%B0%ED%8F%AC%EB%8F%84)\n",
        "\n",
        "3. 이러한 산포도를 보여주는 값으로 분산,표준편차가 있다.\n",
        "\n",
        "4. 분산=각각의 데이터값과 평균과의 차를 제곱하고 모두 합한뒤 전체 개수를 나눈것.(평균)\n",
        "제곱을 한 이유는 차를 구하면 음수가 나올 수있어 정상적으로 출력되지 않을 수있기 때문에\n",
        "\n",
        "4. 표준편차= 분산의 제곱근\n",
        "표준편차를 따로 구하는 이유는 분산으로는 값이 너무 커서 비교가 쉽지않기때문에\n"
      ]
    },
    {
      "cell_type": "markdown",
      "metadata": {
        "id": "P6fDRa_06t7E",
        "colab_type": "text"
      },
      "source": [
        "#####5. 사분위수\n",
        ":데이터를 사 등분 한 지점을 표현한 지표. \n",
        "\n",
        "데이터 구성을 전체적으로 살펴보고자 할때 사용\n",
        "\n",
        "\n",
        "__데이터의 이상치 탐색과 중심위치 및 분포를 빠르게 파악 할수 있다__\n",
        "\n",
        "1. 사분위수를 살펴보자.\n",
        "\n",
        "1,2,2,3,4,5,6,7,8,8,9,9   가 있다.\n",
        "\n",
        "      1. 먼저 데이터를 정렬한다.\n",
        "      2. 1/4에 해당하는 지점에 위치한 숫자를 1사분위수(2.5)\n",
        "      3. 2/4에 해당하는 지점에 위치한 숫자를 2사분위수(5.5)\n",
        "      4. 3/4에 해당하는 지점에 위치한 숫자를 3사분위수(8.0)\n",
        "      5. 4/4에 해당하는 지점에 위치한 숫자를 4사분위수(9.0)\n",
        "\n",
        "[사분위수](https://colab.research.google.com/drive/1kyefBCJsFCzIza52jdvetvv0leHKAubz#scrollTo=DWSF6P9JE68d)\n",
        "\n"
      ]
    },
    {
      "cell_type": "markdown",
      "metadata": {
        "id": "vFQyh5K3XRdI",
        "colab_type": "text"
      },
      "source": [
        "###3. 미분\n",
        "#####1. 목적함수, 미분, 경사하강법"
      ]
    },
    {
      "cell_type": "markdown",
      "metadata": {
        "id": "b1HrLWTJR4TF",
        "colab_type": "text"
      },
      "source": [
        "Θ: 구하고자 하는 미지수"
      ]
    },
    {
      "cell_type": "markdown",
      "metadata": {
        "id": "y6f5TSAiQLDy",
        "colab_type": "text"
      },
      "source": [
        "이차원 형태로 데이터가 나타나 있을 때 우리는 데이터간의 통계모델 즉 수학적모델을 만들어야한다. 예를 들어 데이터간 관계를 따져 함수(수학적모델)를 만들어 예측값을 추출할수있다.\n",
        "\n",
        "이에 우리는 어느정도 현실을 반영하여 모든 점에서 생기는 오차(실제데이터값,수학적모델을  이용해 추출한 예측값)의 합계가 가능한 작아지는 함수를 찾는 것이 우리의 목표다. 그러면 이러한 오차의 합계를 알려주는 식을 만들어야 한다. 이런 식은 어떠한 목적을 가지고 있다고 하여 목적함수라고 부른다.이 목적함숫값이 가장 작아지는 파라미터들(가중치, 절댓값: 구하고자하는 미지수들이다(Θ))을 찾는 것이 목적이다. 이것을 최적화 문제라고 한다. 가장 작아지는 최솟값을 구하는 방법은 미분해서 구하는 방법이 일반적이다. 최소가 되는 x1를 기준으로 다른 xn들을 계속해서 x1지점으로 이동시키면 최솟값을 구할 수있을 것이다. 이러한 이야기를 식으로 정리하면 경사하강법\n",
        "\n",
        "목적함수식, 경사하강법은 _머신러닝을 위한 기초수학[2]_에서 볼수 있다\n",
        "\n"
      ]
    },
    {
      "cell_type": "markdown",
      "metadata": {
        "id": "4Z25h9XTXvWZ",
        "colab_type": "text"
      },
      "source": [
        "#####2. 편미분"
      ]
    },
    {
      "cell_type": "markdown",
      "metadata": {
        "id": "cka0Qg2pXzpD",
        "colab_type": "text"
      },
      "source": [
        "머신러닝에서 보통 목적함수는 변수(Θ)가 여러개인 함수의 형태로 등장. 미분해야 하므로 미분할 변수만 남겨두고 나머지 모든 변수는 모두 상수로 취급해서 미분계산하는 것을 편미분이라고 한다."
      ]
    },
    {
      "cell_type": "markdown",
      "metadata": {
        "id": "Ew_0BFNrZCLK",
        "colab_type": "text"
      },
      "source": [
        "#####3. 연쇄법칙"
      ]
    },
    {
      "cell_type": "markdown",
      "metadata": {
        "id": "_vFqoiyCZXLM",
        "colab_type": "text"
      },
      "source": [
        "\n",
        "경사하강법과 목적함수를 같이 계산해야 한다.\n",
        "이때 복잡해지므로 이때 합성함수를 이용해 쉽게 계산할수있다."
      ]
    },
    {
      "cell_type": "markdown",
      "metadata": {
        "id": "O2EDKtGEbb4C",
        "colab_type": "text"
      },
      "source": [
        "이처럼 편미분과 합성함수를 이용하면, 경사하강법, 목적함수를 계속 같이 계산해 원하는 Θ를 구할 수있다. 하지만 경사하강법은 단점이 존재한다. 딥러닝은 이런단점을 보완해준 방법을 가지고 있다."
      ]
    },
    {
      "cell_type": "markdown",
      "metadata": {
        "id": "sHxfiBkwpqKq",
        "colab_type": "text"
      },
      "source": [
        "#####4. 경사하강법으로 모델 구하기(선형회귀)\n",
        "\n",
        "[선형회귀_나동빈님의 정리](https://www.youtube.com/watch?v=ve6gtpZV83E)\n",
        "\n",
        "[선형회귀_나의정리](https://drive.google.com/drive/u/0/my-drive)"
      ]
    }
  ]
}