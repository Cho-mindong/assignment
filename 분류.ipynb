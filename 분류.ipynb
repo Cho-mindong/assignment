{
  "nbformat": 4,
  "nbformat_minor": 0,
  "metadata": {
    "colab": {
      "name": "분류.ipynb",
      "provenance": [],
      "collapsed_sections": [],
      "authorship_tag": "ABX9TyOSBN/u0ZQKidEHWXYcJYwC",
      "include_colab_link": true
    },
    "kernelspec": {
      "name": "python3",
      "display_name": "Python 3"
    }
  },
  "cells": [
    {
      "cell_type": "markdown",
      "metadata": {
        "id": "view-in-github",
        "colab_type": "text"
      },
      "source": [
        "<a href=\"https://colab.research.google.com/github/Cho-mindong/study_ai_pre-cousre/blob/master/%EB%B6%84%EB%A5%98.ipynb\" target=\"_parent\"><img src=\"https://colab.research.google.com/assets/colab-badge.svg\" alt=\"Open In Colab\"/></a>"
      ]
    },
    {
      "cell_type": "markdown",
      "metadata": {
        "id": "LmHP9NLB5CQk",
        "colab_type": "text"
      },
      "source": [
        "#분류"
      ]
    },
    {
      "cell_type": "markdown",
      "metadata": {
        "id": "vyf-bko35FPV",
        "colab_type": "text"
      },
      "source": [
        "1. [로지스틱회귀](https://blog.naver.com/jmd62/221996464179)\n",
        "2. [결정경계](https://blog.naver.com/jmd62/221996469923)\n",
        "3. [SVM서포트벡터머신](https://blog.naver.com/jmd62/221996489627)"
      ]
    },
    {
      "cell_type": "markdown",
      "metadata": {
        "id": "tKu7_3mnXjH5",
        "colab_type": "text"
      },
      "source": [
        "4. 결정 트리\n"
      ]
    },
    {
      "cell_type": "markdown",
      "metadata": {
        "id": "XmSjtAm4Xm2l",
        "colab_type": "text"
      },
      "source": [
        "- 훈련 데이터에 있는 변수 즉 특성을 기반으로 새로운 샘플의 클레스 레이블을\n",
        "추정할 수 있도록 일련의 질문을 학습하게 된다.\n",
        "- 범주형 특성뿐만아니라 실수형 특성도 사용할 수있다.\n",
        "- 용어 정리\n",
        "    1. 노드(node)=각각의 네모 상자\n",
        "    2. 루트노드: 시작하는 지점, 깊이가 0인 지점\n",
        "    3. 깊이: 아래로 뻗어나갈수록 깊어진다.하나의 층당 1\n",
        "    4. 부모노드: 두개의 층으로 이루어진 트리가 있을때 위층(깊이가 얕은)에있는 노드\n",
        "    5. 자식노드: 두개의 층으로 이루어진 트리가 있을때 아래층(깊이가 깊은)에 있는 노드.왼쪽에 있으면 레프트 노드, 오른쪽에 잇으면 라이트 노드\n",
        "    6. 리프노드:자식노드를 가지지 않는 노드\n",
        "    \n",
        "    [그림](https://cloud.naver.com/#/my/viewer/3472428193148991540:1765086)\n",
        "\n",
        "- 결정트리 알고리즘을 사용하면 트리의 루트에서 시작해 정보이득(IG)이 최대가 되는 특성으로 데이터를 나눈다. __즉, 리프노드가 순수(예를들어 원하는 출력값이 먹는다 안먹는다라고 하자. 순수해진다는 말은 자식노드가 먹는다, 안먹는다로 분리 했을 때 그 자식노드를 리프노드라고 한다)해질때까지 모든 자식노드에서 이분할 작업을 반복한다.__ \n",
        "- 하지만 계속 반복하다보면 깊은 트리가 반복되는데 과적합을 불러일으킬수있다. 그래서 트리의 최대 깊이를 제한하는 가지치기를 한다.\n",
        "\n",
        "- 목적함수의 목적을 알아보자.\n",
        "가장 정보가 풍부한 특성(IG이 최대가 되는)으로 노드를 나누기 위한 목적이다.\n",
        "이를 트리 알고리즘으로 최적화 해줘야 한다.\n",
        "__즉, 정보이득을 최대화 해야한다는 목적을 가지고 있다.__\n",
        "\n",
        "- 정보이득: 어떤 특성을 선택함으로 인해서 데이터를 더 잘 구분하게 되는 것. 예를 들어 학생 데이터에서 수능 등급을 구분하는데 있어 수학점수가 영어점수보다 변별력이 더높다고하자. 그러면 수학 점수 특성이 영어점수특성보다 정보이득이 더 높다고 할수있다.\n",
        "\n",
        "- [정보이득 최대화되도록 학습하기.](https://cloud.naver.com/#/my/viewer/3472428193148932917:1765086?resourceKey=am1kNjJ8MzQ3MjQyODExOTQxMTc5OTYwNXxEfDA)\n",
        "\n",
        "  정보이득 수식을 보자. 정보이득이 최대화 되려면 자식노드의 불순도의 합이 작아야 한다. 즉, 학습하면 할수록 자식노드의 불순도가 0이 되도록 뻗어나간다.\n",
        "- 대부분의 라이브러리는 구현을 간단하게 하고 탐색공간을 줄이기 위해 이진 결정 트리를 사용한다.(자식노드가 두개로만 나눈다는 뜻)\n",
        "\n",
        "- 불순도 지표를 측정하는 분할기법은 [엔드로피, 지니 불순도, 분류오차](https://cloud.naver.com/#/my/viewer/3472428193150309940:1765086?resourceKey=am1kNjJ8MzQ3MjQyODExOTQxMTc5OTYwNXxEfDA)가 있다.\n",
        "\n",
        "[시나리오 A,B가 주어졌을 때](https://cloud.naver.com/#/my/viewer/3472428193150253877:1765086?resourceKey=am1kNjJ8MzQ3MjQyODExOTQxMTc5OTYwNXxEfDA),\n",
        "\n",
        "1. 분류오차를 활용한 정보이득 산출\n",
        "2. 지니불순도를 활용한 정보이득 산출\n",
        "3. 엔트로피를 활용한 정보이득 산출\n",
        "4. 지니불순도가 엔트로피와 분류오차의 중간정도에 위치한다."
      ]
    },
    {
      "cell_type": "markdown",
      "metadata": {
        "id": "jojaiAo6ucP-",
        "colab_type": "text"
      },
      "source": [
        "5. K-근접 이웃(KNN)\n",
        "\n",
        "사례 기반 학습 알고리즘이다.\n",
        "지금까지 했던 선형회귀나 로지스틱회귀 알고리즘은 모델 기반 학습 알고리즘이다. 즉 학습을 해서 적합한 모델을 찾는 것. 학습 데이터로 일반화를 해서 학습데이터가 필요 없다. 따라서 학습데이터를 제거한다. 이로인해 데이터 저장공간이 절약된다.\n",
        "\n",
        "KNN은 학습을 안하고 사례(학습 데이터)를 외워 새로운 데이터와 비교한다. 즉, 알고리즘을 실행할때 마다 모든 학습데이터와 새로운 데이터를 비교해 분류해야 한다는 뜻. 또,고차원 데이터를 다룰 때는 데이터의 수가 많을 수록 계산 복잡도가 증가한다. 이런 이유들 때문에 계산 비용이 증가한다.\n",
        "\n",
        "하지만 데이터 정제만 잘해준다면 학습과정이 없어 빠르게 결과를 살펴볼수있다.\n",
        "\n",
        "학습과정.\n",
        "1. 숫자 k를 선택\n",
        "2. 거리 측정 기준을 선택. 유클리디안 거리측정방식 선택\n",
        "3. 분류하려는 미지의 데이터에서 k개의 최근접 이웃을 찾는다.\n",
        "4. 다수결 투표를 진행\n",
        "5. 가장 많이 있는 특정 클래스 레이블을 가진 데이터가  투표에 당선된다.\n",
        "6. 새로운 데이터는 그 특정 클래스 레이블을 가진다.\n",
        "\n",
        "KNN이 잘 학습되기 위해서는..\n",
        "\n",
        "1. __KNN의 핵심은 과적합과 과소적합이 안되도록 균형을 잡기 위한 k값 설정이 무엇보다 중요하다__\n",
        "2. 차원의 저주(고정된 크기의 훈련 데이터셋 차원이 늘어남에 따라 특성 공간이 점점 희소해 지는 현상)이 발생한다. 올바른 변수의 선택과 차원 축소 기법을 사용하면 좋다"
      ]
    },
    {
      "cell_type": "markdown",
      "metadata": {
        "id": "ukkijNBKyjly",
        "colab_type": "text"
      },
      "source": [
        "___알고리즘에서 올바른 학습 알고리즘을 선택하는 것도 중요하지만 데이터도 아주 중요하다.\n",
        "차원축소, 데이터 전처리, 특성 선택처럼 데이터에도 신경 많이 써야된다.___"
      ]
    }
  ]
}