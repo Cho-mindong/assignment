{
  "nbformat": 4,
  "nbformat_minor": 0,
  "metadata": {
    "colab": {
      "name": "강의에서나온numpy에관한것.ipynb",
      "provenance": [],
      "authorship_tag": "ABX9TyOyUEuHnAmclXrY6ex6pWGW",
      "include_colab_link": true
    },
    "kernelspec": {
      "name": "python3",
      "display_name": "Python 3"
    }
  },
  "cells": [
    {
      "cell_type": "markdown",
      "metadata": {
        "id": "view-in-github",
        "colab_type": "text"
      },
      "source": [
        "<a href=\"https://colab.research.google.com/github/Cho-mindong/study_ai_pre-cousre/blob/master/%EA%B0%95%EC%9D%98%EC%97%90%EC%84%9C%EB%82%98%EC%98%A8numpy%EC%97%90%EA%B4%80%ED%95%9C%EA%B2%83.ipynb\" target=\"_parent\"><img src=\"https://colab.research.google.com/assets/colab-badge.svg\" alt=\"Open In Colab\"/></a>"
      ]
    },
    {
      "cell_type": "markdown",
      "metadata": {
        "id": "F2gMGa2Z6Iz4",
        "colab_type": "text"
      },
      "source": [
        "#여기에 나온 매소드는 암기하자."
      ]
    },
    {
      "cell_type": "code",
      "metadata": {
        "id": "RkthaIK5a_cS",
        "colab_type": "code",
        "colab": {}
      },
      "source": [
        "import numpy as np\n",
        "from scipy import stats"
      ],
      "execution_count": 0,
      "outputs": []
    },
    {
      "cell_type": "code",
      "metadata": {
        "id": "oPGKXCnQbPn6",
        "colab_type": "code",
        "colab": {}
      },
      "source": [
        "np.random.seed(0)   #0이라는 숫자는 실험을 위한 통제 가능 제한적공간이란 의미 \n",
        "                    #0으로 지정하면 랜덤한값도 동일한 결과값을 얻을수있다\n",
        "                    #1 or 2 or 3..... 으로 지정하면 서로는 다르지만 각각 동일한 결과값을 얻을수있다\n",
        "    "
      ],
      "execution_count": 0,
      "outputs": []
    },
    {
      "cell_type": "code",
      "metadata": {
        "id": "0-bymDsgbuxc",
        "colab_type": "code",
        "colab": {}
      },
      "source": [
        "data_A=np.random.randint(0,100,10000)  #0~100 까지의 숫자중에 10000개의 데이터를 무작위로 추출하라\n"
      ],
      "execution_count": 0,
      "outputs": []
    },
    {
      "cell_type": "code",
      "metadata": {
        "id": "tGAm0dEBcJ9o",
        "colab_type": "code",
        "outputId": "b77d6882-65ed-4785-d9ec-6d9e42386de5",
        "colab": {
          "base_uri": "https://localhost:8080/",
          "height": 70
        }
      },
      "source": [
        "mean= np.mean(data_A)  #평균값\n",
        "median=np.median(data_A)  #중앙값\n",
        "mode=stats.mode(data_A) #최빈값\n",
        "\n",
        "print(\"평균값:\", mean)\n",
        "print(\"중앙값:\", median)\n",
        "#최빈값은 어떠한 숫자를 몇개를 가지고 있는지 출력\n",
        "print(\"최빈값: {0}  ( {1} )\". format(mode[0][0],mode[1][0])) "
      ],
      "execution_count": 0,
      "outputs": [
        {
          "output_type": "stream",
          "text": [
            "평균값: 49.1663\n",
            "중앙값: 49.0\n",
            "최빈값: 3  ( 125 )\n"
          ],
          "name": "stdout"
        }
      ]
    },
    {
      "cell_type": "markdown",
      "metadata": {
        "id": "hIt3dqwKf5ey",
        "colab_type": "text"
      },
      "source": [
        "위의 경우 평균값과 중앙값과 최빈값이 차이가 많이 난다. 정규분포라고 하기는 어렵다.\n",
        "이번에는 정규분포를 구해보자"
      ]
    },
    {
      "cell_type": "code",
      "metadata": {
        "id": "8rUAwge9gHfl",
        "colab_type": "code",
        "colab": {}
      },
      "source": [
        "data_B=np.random.normal(size=100)  #normal 매서드에 size, 즉 데이터가 몇개로 구성할지 정한다."
      ],
      "execution_count": 0,
      "outputs": []
    },
    {
      "cell_type": "code",
      "metadata": {
        "id": "ReVnIIZRg631",
        "colab_type": "code",
        "outputId": "90a1dcf7-48b4-4048-f04a-4424ec204a41",
        "colab": {
          "base_uri": "https://localhost:8080/",
          "height": 70
        }
      },
      "source": [
        "mean= np.mean(data_B)  #평균값\n",
        "median=np.median(data_B)  #중앙값\n",
        "mode=stats.mode(data_B) #최빈값\n",
        "\n",
        "print(\"평균값:\", mean)\n",
        "print(\"중앙값:\", median)\n",
        "#최빈값은 어떠한 숫자를 몇개를 가지고 있는지 출력\n",
        "print(\"최빈값: {0}  ( {1} )\". format(mode[0][0],mode[1][0])) "
      ],
      "execution_count": 0,
      "outputs": [
        {
          "output_type": "stream",
          "text": [
            "평균값: -0.026070962717157527\n",
            "중앙값: -0.1024051532970941\n",
            "최빈값: -2.862292431709955  ( 1 )\n"
          ],
          "name": "stdout"
        }
      ]
    },
    {
      "cell_type": "markdown",
      "metadata": {
        "id": "QgNE9wOchPYg",
        "colab_type": "text"
      },
      "source": [
        "이처럼 평균값 중앙값 최빈값의 차이가 별로 안난다."
      ]
    },
    {
      "cell_type": "code",
      "metadata": {
        "id": "yPKs886EiXuE",
        "colab_type": "code",
        "outputId": "91ad784f-e4fb-4a76-812e-3d04ce0aaef1",
        "colab": {
          "base_uri": "https://localhost:8080/",
          "height": 52
        }
      },
      "source": [
        "data_A_var=np.var(data_A) #분산구하는 var매소드 \n",
        "data_A_std=np.std(data_A) #표준편차구하는 std매소드\n",
        "print(\"분산:\" , data_A_var.round(2))\n",
        "print(\"표준편차:\", data_A_std.round(2))"
      ],
      "execution_count": 0,
      "outputs": [
        {
          "output_type": "stream",
          "text": [
            "분산: 833.0\n",
            "표준편차: 28.86\n"
          ],
          "name": "stdout"
        }
      ]
    },
    {
      "cell_type": "markdown",
      "metadata": {
        "id": "wH96ayus6CJF",
        "colab_type": "text"
      },
      "source": [
        "numpy에 대한 정보들 \n",
        "[seed,size,normal,random](https://rfriend.tistory.com/284)"
      ]
    }
  ]
}