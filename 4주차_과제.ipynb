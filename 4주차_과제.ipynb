{
  "nbformat": 4,
  "nbformat_minor": 0,
  "metadata": {
    "colab": {
      "name": "4주차 과제.ipynb",
      "provenance": [],
      "collapsed_sections": [],
      "include_colab_link": true
    },
    "kernelspec": {
      "name": "python3",
      "display_name": "Python 3"
    }
  },
  "cells": [
    {
      "cell_type": "markdown",
      "metadata": {
        "id": "view-in-github",
        "colab_type": "text"
      },
      "source": [
        "<a href=\"https://colab.research.google.com/github/Cho-mindong/study_ai_pre-cousre/blob/master/4%EC%A3%BC%EC%B0%A8_%EA%B3%BC%EC%A0%9C.ipynb\" target=\"_parent\"><img src=\"https://colab.research.google.com/assets/colab-badge.svg\" alt=\"Open In Colab\"/></a>"
      ]
    },
    {
      "cell_type": "markdown",
      "metadata": {
        "id": "wxkL6PjwsI6L",
        "colab_type": "text"
      },
      "source": [
        "# 4주차 과제\n",
        "- 용어 정리\n",
        "- 딥러닝 강의 클론 코딩\n",
        "- 딥러닝 순전파 & 역전파 계산"
      ]
    },
    {
      "cell_type": "markdown",
      "metadata": {
        "id": "ixEtDe6_uGgI",
        "colab_type": "text"
      },
      "source": [
        "## 1. 용어 정리\n",
        "\n",
        "다음 제시된 단어의 정의(설명)를 정리하여 작성 하세요.\n",
        "\n",
        "* 2문장 이상 작성 해 주세요. \n",
        "* 주제(단어)와 크게 벗어나지만 않는다면 정답처리 됩니다.\n",
        "* 강의 뿐 아니라 기타 레퍼런스를 참고하여 작성하셔도 됩니다. (기타 레퍼런스를 참고하신 경우, 해당 레퍼런스를 정리하여 하단에 작성해 주세요.)\n"
      ]
    },
    {
      "cell_type": "markdown",
      "metadata": {
        "id": "0lfwat8eurKZ",
        "colab_type": "text"
      },
      "source": [
        "__(예시)__\n",
        "### 심층 신경망\n",
        ": 입력층과 출력층 사이에 여러 개의 은닉층들로 이뤄진 인공신경망이다. 심층 신경망은 일반적으로 인공신경망과 마찬가지로 복잡한 비선형 관계들을 모델링 할 수 있다. 신층신경망의 목적은 분류 및 수치예측을 하기 위함이고 이미지 트레이닝이나 문자인식과 같은 분야에서 매우 유용하게 쓰이고 있다."
      ]
    },
    {
      "cell_type": "markdown",
      "metadata": {
        "id": "Y8YJNKG_v65A",
        "colab_type": "text"
      },
      "source": [
        "### MCP 뉴런\n",
        ": 매컬러와 피츠가 제안한 생물학적 뉴런에서 착안한 매우 단순한 신경망 모델이다. 하나 이상의 이진 입력과 이진 출력을 가진다. MCP뉴런에 영감을 받아 인공신경망이 만들어 졌는데 인공신경망과 다른 점은 입력값과 출력값이 모두 on/off값이라는 것과 활성화 함수가 없다는 것이다.\n",
        "\n",
        "### 퍼셉트론\n",
        ": 가장 간단한 인공 신경망 구조이다. 퍼셉트론은 인공뉴런을 기반으로 한다. 인공뉴런과 다른 점은 하나의 출력값이 아닌 여러개의 출력값을 출력한다.  단층 퍼셉트론의 경우 입력층과 출력층으로만 구성되어 있다. 다층 퍼셉트론의 경우 입력층, 하나 이상의 은닉층 그리고 출력층으로 구성되어 있다. 출력층을 제외한 모든 층에는 각각의 뉴런말고도 편향뉴런이 함께 있다.\n",
        "\n",
        "### 역전파\n",
        ": 역전파 알고리즘은 제프리 힌튼이 고안한 심층신경망에 있는 가중치와 편향값들을 효율적으로 조정하기 위한 알고리즘이다.\n",
        "1. 모든 가중치와 편향에 랜덤값을 넣고 신경망을 정방향으로 계산한다.\n",
        "2. 손실함수는 제곱오차로 설정하고 출력값과 지도데이터(기대 출력값)의 오차 측정 값을 구한다.\n",
        "3. 출력층부터 시작해서 은닉층 입력층까지 역방향으로 오차 측정값과 활성함수를 편미분과 연쇄법칙을 이용해 모든 가중치와 편향값을 구한다.\n",
        "4. 경사하강법을 이용해 오차측정값을 최대한 줄이는 방향으로 모든 가중치와 편향값을 조정한다.\n",
        "\n",
        "### 강화학습\n",
        ": 에이전트가 환경과 상호작용하며 보상과 패널티(벌점, 보상을 깎아먹는다.)를 받으면서 보상이 최대화되는 쪽으로 에이전트가 학습한다. 즉, 보상을 최대화하는 에이전트의 의사결정전략을 학습하는 것이다. 강화학습은 지도학습과 달리 레이블이 없고 비지도학습과 달리 데이터만을 기반으로 학습하지도 않는다.\n",
        "명확한 보상을 설정할 수 있는 문제를 해결하는데 사용된다.\n",
        "\n",
        "### 과적합\n",
        ": 과적합은 학습할때 훈련샘플에 너무 잘 일반화돼서 새로운데이터에는 그 일반성이 맞지 않는 것이다. 머신러닝은 주로 훈련샘플로 학습해 모델의 적절한 파라미터와 하이퍼 파라미터를 조정해 가장 적절한 모델을 구해 일반화한다. 하지만 너무 적절하게 일반화하면 문제가 될 수 있다. 왜냐하면 훈련샘플을 통해서 일반화했지 새로운 데이터로 일반화를 안 했기 때문이다. 즉, 모델은 훈련샘플에만 적절하게 일반화 되었다는 것이다. 머신러닝의 궁극적인 목적은 새로운 데이터가 적절한 모델에 주입되어 원하는 결과값을 출력하는 것이다. 그래서 훈련데이터뿐만아니라 새로운데이터에 대해서도 일반화가 되야 한다.\n",
        "\n",
        "### 차원의 저주\n",
        ": 실제데이터에는 머신러닝에 고려해야할 아주 많은 특성을 가진다. 이로 인해 훈련해야할 양이 너무 많아진다. 또 지금까지 공부했던 데이터들은 시각화가 가능해 직관적으로 파악이 잘 되어 예측하는데 많은 도움이 되었다. 하지만 실제 데이터는 고차원적이어서 시각화가 안돼 직관적으로 예측하기 어려워 진다. 이런 문제를 차원의 저주라고 한다. \n"
      ]
    },
    {
      "cell_type": "markdown",
      "metadata": {
        "id": "0-UxfOwsYE4E",
        "colab_type": "text"
      },
      "source": [
        "[Reference]\n",
        "- 핸즈온 머신러닝( 오렐리앙 제롱 지음. 한빛미디어)"
      ]
    },
    {
      "cell_type": "markdown",
      "metadata": {
        "id": "d-zfFXLCy6jD",
        "colab_type": "text"
      },
      "source": [
        "## 2. 딥러닝 강의 클론 코딩\n",
        "\n",
        "####__퍼셉트론 구조 구현하기__ \n",
        "딥러닝 강의(__딥러닝 원리[1] 3:15 ~ 5:15 부분__)를 보고 코드를 따라 치며 출력 결과를 만드세요.\n",
        " \n",
        "\n",
        "* 하나의 코드셀에 해당 코드를 한번에 다 적어서 실행해주세요 (__그렇게 하지 않을 경우, 아래 이미지와 같은 출력값이 나오지 않을 수 있습니다__)\n",
        "\n",
        "*__주의!__ 실제로 코딩해서 출력해보면 강의에 나온 출력 결과와 다르게 나옵니다!!\n"
      ]
    },
    {
      "cell_type": "code",
      "metadata": {
        "id": "VOXFU45LWt0n",
        "colab_type": "code",
        "colab": {
          "base_uri": "https://localhost:8080/",
          "height": 210
        },
        "outputId": "f0c1ceac-f9ad-4252-f701-abde3810c5d1"
      },
      "source": [
        "import tensorflow as tf\n",
        "tf.compat.v1.set_random_seed(2020)\n",
        "x=1  #입력값=1\n",
        "y=0  #원하는 출력값=0\n",
        "w=tf.random.normal([1],0,1)  #가중치는 정규분포에 무작위 값을 설정\n",
        "\n",
        "import math\n",
        "def sigmoid(x):           #활성함수에는 여러가지 있지만 여기에서는 시그모이드함수사용\n",
        "  return 1/(1+math.exp(-x))   #f(x)=1/1+e^x\n",
        "\n",
        "output=sigmoid(x*w)   #y=f(x*w)=1/1+e^(x*w)\n",
        "print(output)\n",
        "\n",
        "for i in range(1000):       #가중치조정횟수를 충분히 많게 설정\n",
        "  output=sigmoid(x*w)     \n",
        "  error=y-output        #오차측정(error)설정\n",
        "  w=w+x*0.1*error      #경사하강법, 0.1은 학습률\n",
        "\n",
        "  if i %100==99:\n",
        "    print(\"학습 횟수:\", i, \"Error:\", error, \"결과값:\", output)"
      ],
      "execution_count": 1,
      "outputs": [
        {
          "output_type": "stream",
          "text": [
            "0.47477188589261\n",
            "학습 횟수: 99 Error: -0.10010598284299604 결과값: 0.10010598284299604\n",
            "학습 횟수: 199 Error: -0.05178399422833116 결과값: 0.05178399422833116\n",
            "학습 횟수: 299 Error: -0.034590451977903586 결과값: 0.034590451977903586\n",
            "학습 횟수: 399 Error: -0.02588962752851373 결과값: 0.02588962752851373\n",
            "학습 횟수: 499 Error: -0.020658699939863617 결과값: 0.020658699939863617\n",
            "학습 횟수: 599 Error: -0.017174253993457355 결과값: 0.017174253993457355\n",
            "학습 횟수: 699 Error: -0.014689506449480992 결과값: 0.014689506449480992\n",
            "학습 횟수: 799 Error: -0.012829497265431342 결과값: 0.012829497265431342\n",
            "학습 횟수: 899 Error: -0.011385568271837804 결과값: 0.011385568271837804\n",
            "학습 횟수: 999 Error: -0.010232493309882492 결과값: 0.010232493309882492\n"
          ],
          "name": "stdout"
        }
      ]
    },
    {
      "cell_type": "markdown",
      "metadata": {
        "id": "wcc5mzI9oZ7r",
        "colab_type": "text"
      },
      "source": [
        "![대체 텍스트](https://www.notion.so/image/https%3A%2F%2Fs3-us-west-2.amazonaws.com%2Fsecure.notion-static.com%2F0cceeed0-0235-4b0f-af88-0b8c377d5b4b%2F_2020-06-09__9.35.23.png?table=block&id=88fd8912-9356-49a4-9fda-a1a63fe96ea9&width=2870&cache=v2)"
      ]
    },
    {
      "cell_type": "markdown",
      "metadata": {
        "id": "kr0HVRk8fOom",
        "colab_type": "text"
      },
      "source": [
        "## 3. 딥러닝 순전파 & 역전파 계산\n",
        "\n",
        "딥러닝 강의(__딥러닝 원리[2] 0:55 ~ 4:32 부분__)에 나오는 순전파 & 역전파 계산에 대한 문제 입니다.\n",
        "\n",
        "해당 영상과 다음 이미지를 참고하여 다음 2가지 물음에 답하세요.\n",
        "\n",
        "\n",
        "(1) 학습률이 0.2 일 경우 출력층의 노드값\n",
        "\n",
        "(2) 학습률이 0.1과 0.2 중 기대출력값이 지도데이터 \"3\"과 더 가까운 학습률은?"
      ]
    },
    {
      "cell_type": "markdown",
      "metadata": {
        "id": "CpwPFWhOUzww",
        "colab_type": "text"
      },
      "source": [
        "![대체 텍스트](https://www.notion.so/image/https%3A%2F%2Fs3-us-west-2.amazonaws.com%2Fsecure.notion-static.com%2Ff54dfd45-92ec-44ae-9616-6949d2484a45%2F_2020-06-10__5.22.03.png?table=block&id=ee05da89-3ceb-4ad9-a2d3-c9f68d24d1d9&width=3580&cache=v2)"
      ]
    },
    {
      "cell_type": "markdown",
      "metadata": {
        "id": "B2OVY7w5U3CI",
        "colab_type": "text"
      },
      "source": [
        "## (1) 학습률이 0.2 일 경우 출력층의 노드값 : 1.6\n",
        "## (2) 학습률이 0.1과 0.2 중 기대출력값이 지도데이터 \"3\"과 더 가까운 학습률은? : 0.1 "
      ]
    },
    {
      "cell_type": "code",
      "metadata": {
        "id": "BgavfvqiWxBU",
        "colab_type": "code",
        "colab": {}
      },
      "source": [
        ""
      ],
      "execution_count": 0,
      "outputs": []
    }
  ]
}